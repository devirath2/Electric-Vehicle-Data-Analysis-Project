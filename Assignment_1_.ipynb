{
 "cells": [
  {
   "cell_type": "code",
   "execution_count": 5,
   "id": "997048aa",
   "metadata": {},
   "outputs": [
    {
     "name": "stdout",
     "output_type": "stream",
     "text": [
      "Enter first number12\n",
      "Enter Second number233\n",
      "Enter Third number40\n",
      "The greatest number is  233\n"
     ]
    }
   ],
   "source": [
    "#Q1Write a Python program to find the largest of three numbers.\n",
    "a=int(input(\"Enter first number\"))\n",
    "b=int(input(\"Enter Second number\"))\n",
    "c=int(input(\"Enter Third number\"))\n",
    "if a>b and a>c:\n",
    "    print(\"The greatest number is \",a)\n",
    "elif b>a and b>c:\n",
    "    print(\"The greatest number is \",b)\n",
    "else:\n",
    "    print(\"The greatest number is \",c)"
   ]
  },
  {
   "cell_type": "code",
   "execution_count": 7,
   "id": "d39f57b4",
   "metadata": {},
   "outputs": [
    {
     "name": "stdout",
     "output_type": "stream",
     "text": [
      "Enter a number to check if it is even or odd10\n",
      "10  is even\n"
     ]
    }
   ],
   "source": [
    "#Q2Create a program that checks if a number is even or odd.\n",
    "a=int(input(\"Enter a number to check if it is even or odd\"))\n",
    "if a%2==0:\n",
    "    print(a,\" is even\")\n",
    "else:\n",
    "    print(a,\" is odd\")"
   ]
  },
  {
   "cell_type": "code",
   "execution_count": 9,
   "id": "9dbe602f",
   "metadata": {},
   "outputs": [
    {
     "name": "stdout",
     "output_type": "stream",
     "text": [
      "1\n",
      "2\n",
      "3\n",
      "4\n",
      "5\n",
      "6\n",
      "8\n",
      "9\n",
      "10\n",
      "11\n",
      "12\n",
      "13\n",
      "15\n",
      "16\n",
      "17\n",
      "18\n",
      "19\n",
      "20\n",
      "22\n",
      "23\n",
      "24\n",
      "25\n",
      "26\n",
      "27\n",
      "29\n",
      "30\n",
      "31\n",
      "32\n",
      "33\n",
      "34\n",
      "36\n",
      "37\n",
      "38\n",
      "39\n",
      "40\n",
      "41\n",
      "43\n",
      "44\n",
      "45\n",
      "46\n",
      "47\n",
      "48\n",
      "50\n",
      "51\n",
      "52\n",
      "53\n",
      "54\n",
      "55\n",
      "57\n",
      "58\n",
      "59\n",
      "60\n",
      "61\n",
      "62\n",
      "64\n",
      "65\n",
      "66\n",
      "67\n",
      "68\n",
      "69\n",
      "71\n",
      "72\n",
      "73\n",
      "74\n",
      "75\n",
      "76\n",
      "78\n",
      "79\n",
      "80\n",
      "81\n",
      "82\n",
      "83\n",
      "85\n",
      "86\n",
      "87\n",
      "88\n",
      "89\n",
      "90\n",
      "92\n",
      "93\n",
      "94\n",
      "95\n",
      "96\n",
      "97\n",
      "99\n",
      "100\n"
     ]
    }
   ],
   "source": [
    "#Q3Write a program that prints numbers from 1 to 100 but skips numbers divisible by 7.\n",
    "\n",
    "for a in range(1,101):\n",
    "    if a%7==0:\n",
    "        continue\n",
    "    print(a)"
   ]
  },
  {
   "cell_type": "code",
   "execution_count": 10,
   "id": "c07b65b8",
   "metadata": {},
   "outputs": [
    {
     "name": "stdout",
     "output_type": "stream",
     "text": [
      "Enter a number and I will give you the multiplication table2\n",
      "2 x 1 = 2\n",
      "2 x 2 = 4\n",
      "2 x 3 = 6\n",
      "2 x 4 = 8\n",
      "2 x 5 = 10\n",
      "2 x 6 = 12\n",
      "2 x 7 = 14\n",
      "2 x 8 = 16\n",
      "2 x 9 = 18\n",
      "2 x 10 = 20\n"
     ]
    }
   ],
   "source": [
    "#Q4Write a program to print the multiplication table of a given number.\n",
    "a=int(input(\"Enter a number and I will give you the multiplication table\"))\n",
    "for b in range(1,11):\n",
    "    print(a,\"x\",b,\"=\",a*b)"
   ]
  },
  {
   "cell_type": "code",
   "execution_count": 12,
   "id": "5207b175",
   "metadata": {},
   "outputs": [
    {
     "name": "stdout",
     "output_type": "stream",
     "text": [
      "enter the number of rows4\n",
      "\n",
      "*\n",
      "**\n",
      "***\n",
      "****\n",
      "\n",
      "*\n",
      "**\n",
      "***\n",
      "****\n",
      "\n",
      "*\n",
      "**\n",
      "***\n",
      "****\n",
      "\n",
      "*\n",
      "**\n",
      "***\n",
      "****\n",
      "\n",
      "*\n",
      "**\n",
      "***\n",
      "****\n"
     ]
    }
   ],
   "source": [
    "#Q5Write a program that uses a nested loop to print a right-angled triangle\n",
    "#pattern of stars based on user input.\n",
    "no_of_rows=int(input(\"enter the number of rows\"))\n",
    "for a in range(0,no_of_rows+1):\n",
    "    for a in range(0,no_of_rows+1):\n",
    "        print(\"*\"*a)"
   ]
  },
  {
   "cell_type": "code",
   "execution_count": 1,
   "id": "e0e14fb3",
   "metadata": {},
   "outputs": [
    {
     "name": "stdout",
     "output_type": "stream",
     "text": [
      "1\n",
      "12\n",
      "123\n",
      "1234\n"
     ]
    }
   ],
   "source": [
    "##Q6 Create a Python program that prints the following pattern using nested\n",
    "#  loops:\n",
    "#  1\n",
    "#  12\n",
    "#  123\n",
    "#  1234\n",
    "a=4\n",
    "for i in range(1,a+1):\n",
    "    for j in range(1,i+1):\n",
    "        print(j,end='')\n",
    "    print()"
   ]
  },
  {
   "cell_type": "code",
   "execution_count": 1,
   "id": "8ac6a828",
   "metadata": {},
   "outputs": [
    {
     "name": "stdout",
     "output_type": "stream",
     "text": [
      "Enter a letter a\n",
      "a  is a vowel\n"
     ]
    }
   ],
   "source": [
    "#Q7 checking if letter is vowel or consonant\n",
    "a=input(\"Enter a letter \")\n",
    "if a in [\"a\",\"e\",\"i\",\"o\",\"u\"]:\n",
    "    print(a,\" is a vowel\")\n",
    "else:\n",
    "    print(a,\" is a consonant\")"
   ]
  },
  {
   "cell_type": "code",
   "execution_count": 3,
   "id": "e076a1b3",
   "metadata": {},
   "outputs": [
    {
     "name": "stdout",
     "output_type": "stream",
     "text": [
      "    *\n",
      "   ***\n",
      "  *****\n",
      " *******\n",
      "*********\n",
      " *******\n",
      "  *****\n",
      "   ***\n",
      "    *\n"
     ]
    }
   ],
   "source": [
    "#Q8 \n",
    "def generate_diamond(n):\n",
    "    for i in range(1, n + 1):\n",
    "        print(\" \" * (n - i), end=\"\")\n",
    "        print(\"*\" * (2 * i - 1))\n",
    "    \n",
    "    for i in range(n - 1, 0, -1):\n",
    "        print(\" \" * (n - i), end=\"\")\n",
    "        print(\"*\" * (2 * i - 1))\n",
    "\n",
    "generate_diamond(5)\n"
   ]
  },
  {
   "cell_type": "code",
   "execution_count": 31,
   "id": "352b0cf8",
   "metadata": {},
   "outputs": [
    {
     "name": "stdout",
     "output_type": "stream",
     "text": [
      "Enter a number to reverse504\n",
      "405\n"
     ]
    }
   ],
   "source": [
    "#Q9: Write a Python program to reverse the digits of a given number.\n",
    "a=int(input(\"Enter a number to reverse\"))\n",
    "b=0\n",
    "while a>0:\n",
    "    lastdigit=a%10\n",
    "    b=b*10+lastdigit\n",
    "    a=a//10\n",
    "print(b)"
   ]
  },
  {
   "cell_type": "code",
   "execution_count": 2,
   "id": "4399f2cb",
   "metadata": {},
   "outputs": [
    {
     "name": "stdout",
     "output_type": "stream",
     "text": [
      "    1\n",
      "   121\n",
      "  12321\n",
      " 1234321\n",
      "123454321\n"
     ]
    }
   ],
   "source": [
    "#Q10. \n",
    "def generate_pyramid(n):\n",
    "    for i in range(1, n+1):\n",
    "        print(\" \" * (n - i), end=\"\")\n",
    "        for j in range(1, i + 1):\n",
    "            print(j, end=\"\")\n",
    "        for j in range(i - 1, 0, -1):\n",
    "            print(j, end=\"\")\n",
    "        print()\n",
    "generate_pyramid(5)\n"
   ]
  },
  {
   "cell_type": "code",
   "execution_count": null,
   "id": "ee1a92c7",
   "metadata": {},
   "outputs": [],
   "source": []
  }
 ],
 "metadata": {
  "kernelspec": {
   "display_name": "Python 3 (ipykernel)",
   "language": "python",
   "name": "python3"
  },
  "language_info": {
   "codemirror_mode": {
    "name": "ipython",
    "version": 3
   },
   "file_extension": ".py",
   "mimetype": "text/x-python",
   "name": "python",
   "nbconvert_exporter": "python",
   "pygments_lexer": "ipython3",
   "version": "3.9.7"
  }
 },
 "nbformat": 4,
 "nbformat_minor": 5
}
