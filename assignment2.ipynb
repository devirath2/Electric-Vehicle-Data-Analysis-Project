{
 "cells": [
  {
   "cell_type": "code",
   "execution_count": null,
   "id": "d7771cf4",
   "metadata": {},
   "outputs": [],
   "source": [
    "#Q1\n",
    "def countvow(x):\n",
    "    vowel='AEIOUaeiou'\n",
    "    vcount=0\n",
    "    ccount=0\n",
    "    for char in x:\n",
    "        if char.isalpha():\n",
    "            if char in vowel:\n",
    "                vcount+=1\n",
    "            else:\n",
    "                ccount+=1\n",
    "    return vcount,ccount\n",
    "x=input(\"Enter a line or phrase \")\n",
    "vowels,consonants=countvow(x)\n",
    "print(f\"The vowels count : {vowels} and the consonant count : {consonants}\")"
   ]
  },
  {
   "cell_type": "code",
   "execution_count": 13,
   "id": "8df19fda",
   "metadata": {},
   "outputs": [
    {
     "name": "stdout",
     "output_type": "stream",
     "text": [
      "Enter elements separated by commas1,2,10,0,1,54\n",
      "The Minimum element is 0 and the maximum element is 54\n"
     ]
    }
   ],
   "source": [
    "#Q2\n",
    "def mmt(a):\n",
    "    mini=min(a)\n",
    "    maxi=max(a)\n",
    "    return mini,maxi\n",
    "c=input(\"Enter elements separated by commas\")\n",
    "b=tuple(map(int, c.split(',')))\n",
    "mini,maxi=mmt(b)\n",
    "print(f\"The Minimum element is {mini} and the maximum element is {maxi}\")"
   ]
  },
  {
   "cell_type": "code",
   "execution_count": 17,
   "id": "8953369a",
   "metadata": {},
   "outputs": [
    {
     "name": "stdout",
     "output_type": "stream",
     "text": [
      "Enter elements separated by commas1,2,34,53,35\n",
      "First : 1,second : 2, rest : [3, 4, 5]\n"
     ]
    }
   ],
   "source": [
    "#Q3\n",
    "def tupleunpack(x):\n",
    "    first,second,*rest=tup\n",
    "    return first,second,rest\n",
    "c=input(\"Enter elements separated by commas\")\n",
    "b=tuple(map(int, c.split(',')))\n",
    "first,second,rest=tupleunpack(b)\n",
    "print(f\"First : {first},second : {second}, rest : {rest}\")"
   ]
  },
  {
   "cell_type": "code",
   "execution_count": 7,
   "id": "5f782ed0",
   "metadata": {},
   "outputs": [
    {
     "name": "stdout",
     "output_type": "stream",
     "text": [
      "Enter a phrase or a line My name is Devi . Don't you think devi is a good name ?\n",
      "{'my': 1, 'name': 2, 'is': 2, 'devi': 2, '.': 1, \"don't\": 1, 'you': 1, 'think': 1, 'a': 1, 'good': 1}\n"
     ]
    }
   ],
   "source": [
    "#Q4 \n",
    "def count_words(word):\n",
    "    word=word.strip(\".,!?;:\").lower()\n",
    "    word1=word.split()\n",
    "    freq_word={}\n",
    "    for text in word1:\n",
    "        freq_word[text]=word1.count(text)\n",
    "    return freq_word\n",
    "word=input(\"Enter a phrase or a line \")\n",
    "result=count_words(word)\n",
    "print(result)"
   ]
  },
  {
   "cell_type": "code",
   "execution_count": 10,
   "id": "50ee1706",
   "metadata": {},
   "outputs": [
    {
     "name": "stdout",
     "output_type": "stream",
     "text": [
      "[1, 2, 3, 6]\n"
     ]
    }
   ],
   "source": [
    "#Q5\n",
    "def dup_find(X):\n",
    "    element = set()\n",
    "    duplicates = set()\n",
    "    \n",
    "    for y in X:\n",
    "        if y in element:\n",
    "            duplicates.add(y)\n",
    "        else:\n",
    "            element.add(y)\n",
    "    \n",
    "    return list(duplicates)\n",
    "\n",
    "X = [1, 2, 3, 3, 2, 6, 6, 1, 7, 3]\n",
    "result = dup_find(X)\n",
    "print(result)\n"
   ]
  },
  {
   "cell_type": "code",
   "execution_count": 12,
   "id": "b9b4bd95",
   "metadata": {},
   "outputs": [
    {
     "name": "stdout",
     "output_type": "stream",
     "text": [
      "[2, 4, 6, 8, 10, 12, 34]\n"
     ]
    }
   ],
   "source": [
    "#Q6\n",
    "n=[1,2,3,4,5,5,6,8,9,10,12,34,53,23]\n",
    "even=list(filter(lambda x:x%2==0,n))\n",
    "print(even) "
   ]
  },
  {
   "cell_type": "code",
   "execution_count": 2,
   "id": "67efec7b",
   "metadata": {},
   "outputs": [],
   "source": [
    "import mymath as mm"
   ]
  },
  {
   "cell_type": "code",
   "execution_count": 19,
   "id": "823c42a0",
   "metadata": {},
   "outputs": [
    {
     "name": "stdout",
     "output_type": "stream",
     "text": [
      "['__builtins__', '__cached__', '__doc__', '__file__', '__loader__', '__name__', '__package__', '__spec__', 'add', 'divide', 'multiply', 'substract']\n"
     ]
    }
   ],
   "source": [
    "print(dir(mm))"
   ]
  },
  {
   "cell_type": "code",
   "execution_count": 5,
   "id": "c7856517",
   "metadata": {},
   "outputs": [
    {
     "name": "stdout",
     "output_type": "stream",
     "text": [
      "Enter a number: 123\n",
      "Enter another number: 124\n",
      "247 - Addition of  123 ,  124\n",
      "-1 - Substraction of  123 ,  124\n",
      "15252 - Multiplication of  123 ,  124\n",
      "0.9919354838709677 - Division of  123  , 124\n"
     ]
    }
   ],
   "source": [
    "#Q7 above I have imported the mymath as mm and in zip file the module file is also present\n",
    "\n",
    "x=int(input(\"Enter a number: \"))\n",
    "y=int(input(\"Enter another number: \"))\n",
    "print(mm.add(x,y),\"- Addition of \",x,\", \",y)\n",
    "print(mm.substract(x,y),\"- Substraction of \",x,\", \",y)\n",
    "print(mm.multiply(x,y),\"- Multiplication of \",x,\", \",y)\n",
    "print(mm.divide(x,y),\"- Division of \",x,\" ,\",y)"
   ]
  },
  {
   "cell_type": "code",
   "execution_count": 12,
   "id": "cd6d8651",
   "metadata": {},
   "outputs": [
    {
     "name": "stdout",
     "output_type": "stream",
     "text": [
      "[(2, 1), (4, 2), (1, 3), (3, 4), (5, 5)]\n",
      "[(5, 5), (3, 4), (1, 3), (4, 2), (2, 1)]  - This is reverse sorting\n"
     ]
    }
   ],
   "source": [
    "#Q8\n",
    "list_of_tuples = [(1, 3), (2, 1), (4, 2), (5, 5), (3, 4)]\n",
    "sortedlist = sorted(list_of_tuples, key=lambda x: x[1])\n",
    "print(sortedlist)\n",
    "sortedreverse=sorted(list_of_tuples,key=lambda x:x[1],reverse=True)\n",
    "print(sortedreverse ,\" - This is reverse sorting\")\n"
   ]
  },
  {
   "cell_type": "code",
   "execution_count": 21,
   "id": "9816880e",
   "metadata": {},
   "outputs": [
    {
     "name": "stdout",
     "output_type": "stream",
     "text": [
      "Enter numbers space separated14 5 5 7 89\n",
      "Enter numbers space separated1 5 5 6 7\n",
      "{1, 6, 14, 89}  : Symmetric difference\n"
     ]
    }
   ],
   "source": [
    "#Q9\n",
    "def sym_diff(a,b):\n",
    "    return a ^ b\n",
    "x = input(\"Enter numbers space separated\")\n",
    "set1=set(map(int,x.split()))\n",
    "y = input(\"Enter numbers space separated\")\n",
    "set2=set(map(int,y.split()))\n",
    "result=sym_diff(set1,set2)\n",
    "print(result,' : Symmetric difference')"
   ]
  },
  {
   "cell_type": "code",
   "execution_count": 22,
   "id": "cc9c8940",
   "metadata": {},
   "outputs": [
    {
     "name": "stdout",
     "output_type": "stream",
     "text": [
      "Enter a number: 12\n",
      "[2, 3, 5, 7, 11]\n"
     ]
    }
   ],
   "source": [
    "#Q10\n",
    "def is_prime(num):\n",
    "    if num <= 1:\n",
    "        return False\n",
    "    for i in range(2, int(num ** 0.5) + 1):\n",
    "        if num % i == 0:\n",
    "            return False\n",
    "    return True\n",
    "\n",
    "def prime_upto_n(n):\n",
    "    primes = []\n",
    "    for i in range(2, n + 1):\n",
    "        if is_prime(i):\n",
    "            primes.append(i)\n",
    "    return primes\n",
    "\n",
    "n = int(input(\"Enter a number: \"))\n",
    "print(prime_upto_n(n))\n"
   ]
  },
  {
   "cell_type": "code",
   "execution_count": null,
   "id": "fa23a216",
   "metadata": {},
   "outputs": [],
   "source": []
  }
 ],
 "metadata": {
  "kernelspec": {
   "display_name": "Python 3 (ipykernel)",
   "language": "python",
   "name": "python3"
  },
  "language_info": {
   "codemirror_mode": {
    "name": "ipython",
    "version": 3
   },
   "file_extension": ".py",
   "mimetype": "text/x-python",
   "name": "python",
   "nbconvert_exporter": "python",
   "pygments_lexer": "ipython3",
   "version": "3.9.7"
  }
 },
 "nbformat": 4,
 "nbformat_minor": 5
}
